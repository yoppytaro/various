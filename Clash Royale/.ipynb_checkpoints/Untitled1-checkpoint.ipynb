{
 "cells": [
  {
   "cell_type": "code",
   "execution_count": null,
   "metadata": {},
   "outputs": [
    {
     "name": "stdout",
     "output_type": "stream",
     "text": [
      "プレイヤータグを入力してください：PLLJRRY2\n",
      "2021年02月21日10時57分：\n",
      "4204\n",
      "\n",
      "2021年02月21日10時58分：\n",
      "4204\n",
      "\n"
     ]
    }
   ],
   "source": [
    "# PLLJRRY2\n",
    "\n",
    "import requests\n",
    "from bs4 import BeautifulSoup\n",
    "import os\n",
    "import datetime\n",
    "import schedule\n",
    "import time\n",
    "\n",
    "tol = None\n",
    "current = None\n",
    "\n",
    "# コンソールタグ入力\n",
    "playertag = input(\"プレイヤータグを入力してください：\")\n",
    "\n",
    "target_url = 'https://royaleapi.com/player/' + playertag + '/battles'\n",
    "\n",
    "# 最新のバトルを取得\n",
    "def job():\n",
    "    global tol\n",
    "    global current\n",
    "    # html情報取得\n",
    "    r = requests.get(target_url)\n",
    "    soup = BeautifulSoup(r.text, 'lxml')\n",
    "    \n",
    "    # 最新のトロフィーを取得\n",
    "    current = soup.find_all(class_='detail')[0].text\n",
    "    current.replace( '\\n' , '' )\n",
    "    \n",
    "    if (not tol):\n",
    "        tol = current\n",
    "    elif (current == tol):\n",
    "        print(str(datetime.datetime.now().strftime('%Y年%m月%d日%H時%M分')) + \"：\" + current)\n",
    "    else:\n",
    "        tol = current\n",
    "        # 通知システム\n",
    "        message = '対戦が更新されました！'\n",
    "        os.system(\"osascript -e 'display dialog\\\" {}\\\"'\".format(message))\n",
    "    \n",
    "    \n",
    "schedule.every(10).minutes.do(job)\n",
    "        \n",
    "while True:\n",
    "    schedule.run_pending()"
   ]
  },
  {
   "cell_type": "code",
   "execution_count": null,
   "metadata": {},
   "outputs": [],
   "source": [
    "# 通知システム\n",
    "message = '対戦が更新されました！'\n",
    "os.system(\"osascript -e 'display dialog\\\" {}\\\"'\".format(message))"
   ]
  },
  {
   "cell_type": "code",
   "execution_count": null,
   "metadata": {},
   "outputs": [],
   "source": []
  },
  {
   "cell_type": "code",
   "execution_count": null,
   "metadata": {},
   "outputs": [],
   "source": []
  },
  {
   "cell_type": "code",
   "execution_count": null,
   "metadata": {},
   "outputs": [],
   "source": []
  },
  {
   "cell_type": "code",
   "execution_count": null,
   "metadata": {},
   "outputs": [],
   "source": []
  },
  {
   "cell_type": "code",
   "execution_count": null,
   "metadata": {},
   "outputs": [],
   "source": []
  }
 ],
 "metadata": {
  "kernelspec": {
   "display_name": "Python 3",
   "language": "python",
   "name": "python3"
  },
  "language_info": {
   "codemirror_mode": {
    "name": "ipython",
    "version": 3
   },
   "file_extension": ".py",
   "mimetype": "text/x-python",
   "name": "python",
   "nbconvert_exporter": "python",
   "pygments_lexer": "ipython3",
   "version": "3.8.7"
  }
 },
 "nbformat": 4,
 "nbformat_minor": 4
}
